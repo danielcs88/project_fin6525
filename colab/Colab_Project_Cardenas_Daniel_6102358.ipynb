{
 "cells": [
  {
   "cell_type": "markdown",
   "metadata": {},
   "source": [
    "# Term Project: FIN6525\n",
    "\n",
    "by [Daniel Cárdenas [6102358]](https://danielcs88.github.io/)"
   ]
  },
  {
   "cell_type": "markdown",
   "metadata": {},
   "source": [
    "- [Term Project: FIN6525](#term-project--fin6525)\n",
    "  * [Part One: Data](#part-one--data)\n",
    "    + [A. Table 1](#a-table-1)\n",
    "      - [Table 1: Monthly Returns](#table-1--monthly-returns)\n",
    "      - [Table 1: Summary Statistics](#table-1--summary-statistics)\n",
    "      - [Annualized Returns](#annualized-returns)\n",
    "    + [B. Table 2: Covariance Matrix](#b-table-2--covariance-matrix)\n",
    "    + [C. Table 3: Correlation Matrix](#c-table-3--correlation-matrix)\n",
    "    + [D. Prospectus Strategy](#d-prospectus-strategy)\n",
    "  * [Part Two](#part-two)\n",
    "    + [A. CAPM](#a-capm)\n",
    "    + [B. β](#b--)\n",
    "    + [C. Table 4](#c-table-4)\n",
    "    + [D. Essay: Differences between Dow Jones and S&P 500](#d-essay--differences-between-dow-jones-and-s-p-500)\n",
    "    + [E. Runs Test: S&P 500](#e-runs-test--s-p-500)\n",
    "      - [Runs Test Interpretation](#runs-test-interpretation)\n",
    "  * [Part Three](#part-three)\n",
    "      - [A. Table 5](#a-table-5)\n",
    "    + [B. Graph 1](#b-graph-1)\n",
    "      - [Static Graph](#static-graph)\n",
    "      - [Dynamic Graph](#dynamic-graph)\n",
    "  * [Part 4](#part-4)\n",
    "    + [A. Graph 2: Mean Variance Plot](#a-graph-2--mean-variance-plot)\n",
    "      - [Globally Minimum Variance Portfolio](#globally-minimum-variance-portfolio)\n",
    "    + [B. Graph 3: Mean-Variance Frontier](#b-graph-3--mean-variance-frontier)\n",
    "      - [Random Portfolios](#random-portfolios)\n",
    "        * [Minimum Volatility](#minimum-volatility)\n",
    "        * [Minimum Volatility](#minimum-volatility-1)\n",
    "  * [Part 5: Performance](#part-5--performance)\n",
    "    + [Sharpe Measure](#sharpe-measure)\n",
    "    + [Treynor Measure](#treynor-measure)\n",
    "    + [Rankings](#rankings)\n",
    "      - [Sharpe Measure](#sharpe-measure-1)\n",
    "      - [Treynor Measure](#treynor-measure-1)\n",
    "      - [Geometric Mean](#geometric-mean)"
   ]
  },
  {
   "cell_type": "code",
   "execution_count": null,
   "metadata": {
    "tags": []
   },
   "outputs": [],
   "source": [
    "from IPython import get_ipython\n",
    "\n",
    "# This whole line is just to make running the code possible using Google Colab\n",
    "# and installs depdenencies\n",
    "\n",
    "if \"google.colab\" in str(get_ipython()):\n",
    "    print(\"Running on Colab\")\n",
    "    get_ipython().run_cell_magic(\n",
    "        \"capture\",\n",
    "        \"\",\n",
    "        \"! pip install yfinance\\n! pip install numpy-financial\\n! pip install pandas-bokeh\\n! pip3 install pickle5\",\n",
    "    )\n",
    "    import pickle5 as pickle\n",
    "\n",
    "\n",
    "else:\n",
    "    print(\"Not running on Colab\")\n",
    "\n"
   ]
  },
  {
   "cell_type": "code",
   "execution_count": null,
   "metadata": {},
   "outputs": [],
   "source": [
    "import functools\n",
    "import operator\n",
    "from datetime import datetime\n",
    "from typing import List\n",
    "\n",
    "import matplotlib.pyplot as plt\n",
    "import matplotlib.ticker as mtick\n",
    "import numpy as np\n",
    "import numpy_financial as npf\n",
    "import pandas as pd\n",
    "import pandas_bokeh\n",
    "import seaborn as sns\n",
    "import statsmodels.api as sm\n",
    "import statsmodels.sandbox.stats.runs as runs\n",
    "import yfinance as yf\n",
    "from IPython.display import Markdown, display\n",
    "from matplotlib.dates import date2num\n",
    "from pandas_datareader import data as pdr\n",
    "from scipy.stats import gmean\n",
    "\n",
    "# Plotting parameters to make plots bigger\n",
    "plt.rcParams[\"figure.dpi\"] = 125\n",
    "get_ipython().run_line_magic(\"config\", \"InlineBackend.figure_format = 'retina'\")\n"
   ]
  },
  {
   "cell_type": "code",
   "execution_count": null,
   "metadata": {},
   "outputs": [],
   "source": [
    "# Formatting to display numbers\n",
    "PERCENT = \"{:,.3%}\"\n",
    "CURRENCY = \"${:,.2f}\"\n",
    "\n",
    "proper_format = {\n",
    "    \"Arithmetic Mean\": PERCENT,\n",
    "    \"Geometric Mean\": PERCENT,\n",
    "    \"Standard Deviation\": PERCENT,\n",
    "    \"Current Value: $10k\": CURRENCY,\n",
    "}\n",
    "\n",
    "plt.style.use(\"seaborn-white\")\n"
   ]
  },
  {
   "cell_type": "code",
   "execution_count": null,
   "metadata": {},
   "outputs": [],
   "source": [
    "# pylint: disable=W0105,W0104\n"
   ]
  },
  {
   "cell_type": "code",
   "execution_count": null,
   "metadata": {},
   "outputs": [],
   "source": [
    "start = datetime(2017, 1, 1)\n",
    "end = datetime(2022, 1, 1)\n"
   ]
  },
  {
   "cell_type": "markdown",
   "metadata": {},
   "source": [
    " ## Part One: Data"
   ]
  },
  {
   "cell_type": "code",
   "execution_count": null,
   "metadata": {},
   "outputs": [],
   "source": [
    "funds = sorted([\"COPX\", \"UNL\", \"CURE\", \"TAN\", \"TECL\"])\n"
   ]
  },
  {
   "cell_type": "code",
   "execution_count": null,
   "metadata": {},
   "outputs": [],
   "source": [
    "tickers = yf.Tickers(funds)\n"
   ]
  },
  {
   "cell_type": "code",
   "execution_count": null,
   "metadata": {},
   "outputs": [],
   "source": [
    "# Price Data\n",
    "data = yf.download(funds, start=start, end=end, interval=\"1mo\")[\n",
    "    \"Adj Close\"\n",
    "].dropna()  # Dropping non-trading dates\n"
   ]
  },
  {
   "cell_type": "code",
   "execution_count": null,
   "metadata": {},
   "outputs": [],
   "source": [
    "data.head()\n"
   ]
  },
  {
   "cell_type": "code",
   "execution_count": null,
   "metadata": {},
   "outputs": [],
   "source": [
    "# To calculate simple returns we simply call the percent change function\n",
    "returns = data.pct_change()\n"
   ]
  },
  {
   "cell_type": "code",
   "execution_count": null,
   "metadata": {},
   "outputs": [],
   "source": [
    "returns.tail()\n"
   ]
  },
  {
   "cell_type": "code",
   "execution_count": null,
   "metadata": {},
   "outputs": [],
   "source": [
    "returns = returns.dropna()\n"
   ]
  },
  {
   "cell_type": "markdown",
   "metadata": {},
   "source": [
    " ### A. Table 1"
   ]
  },
  {
   "cell_type": "markdown",
   "metadata": {},
   "source": [
    " #### Table 1: Monthly Returns"
   ]
  },
  {
   "cell_type": "code",
   "execution_count": null,
   "metadata": {},
   "outputs": [],
   "source": [
    "with pd.option_context(\"display.float_format\", PERCENT.format):\n",
    "    display(returns)\n"
   ]
  },
  {
   "cell_type": "code",
   "execution_count": null,
   "metadata": {},
   "outputs": [],
   "source": [
    "fig, ax = plt.subplots(figsize=(12, 7))\n",
    "ax.plot(returns, label=returns.columns)\n",
    "ax.axvspan(\n",
    "    date2num(datetime(2020, 2, 1)),\n",
    "    date2num(datetime(2020, 4, 1)),\n",
    "    label=\"COVID-19 Downturn\",\n",
    "    color=\"grey\",\n",
    "    alpha=0.3,\n",
    ")\n",
    "ax.legend(loc=3)\n",
    "ax.yaxis.set_major_formatter(mtick.PercentFormatter())\n",
    "ax.set_title(\"Portfolio Monthly Return\")\n",
    "plt.show()\n"
   ]
  },
  {
   "cell_type": "code",
   "execution_count": null,
   "metadata": {},
   "outputs": [],
   "source": [
    "returns_m, returns_n = returns.shape\n"
   ]
  },
  {
   "cell_type": "markdown",
   "metadata": {},
   "source": [
    " #### Table 1: Summary Statistics"
   ]
  },
  {
   "cell_type": "code",
   "execution_count": null,
   "metadata": {},
   "outputs": [],
   "source": [
    "table_1 = pd.DataFrame(\n",
    "    {\n",
    "        \"Arithmetic Mean\": returns.mean(),\n",
    "        \"Geometric Mean\": (gmean(returns + 1) - 1),\n",
    "        \"Standard Deviation\": returns.std(\n",
    "            ddof=0\n",
    "        ),  # degrees of freedom=0 for population stats\n",
    "        \"Current Value: $10k\": npf.fv(\n",
    "            rate=(gmean(returns + 1) - 1),\n",
    "            pmt=0,\n",
    "            nper=returns_m,\n",
    "            pv=[-10000] * returns_n,\n",
    "        ),\n",
    "    }\n",
    ")\n",
    "table_1.style.format(proper_format)\n"
   ]
  },
  {
   "cell_type": "markdown",
   "metadata": {},
   "source": [
    " #### Annualized Returns\n",
    "\n",
    " And if we decided to look at the annualized returns:"
   ]
  },
  {
   "cell_type": "markdown",
   "metadata": {},
   "source": [
    " $$\n",
    " APY = (1+r_{\\text{month}})^{12} - 1 \\\\\n",
    " \\sigma_{\\text{yearly}} = \\sigma_{\\text{month}} \\times \\sqrt{12}\n",
    " $$"
   ]
  },
  {
   "cell_type": "code",
   "execution_count": null,
   "metadata": {},
   "outputs": [],
   "source": [
    "annualized = table_1.copy()\n",
    "annualized[[\"Arithmetic Mean\", \"Geometric Mean\"]] = (\n",
    "    annualized[[\"Arithmetic Mean\", \"Geometric Mean\"]] + 1\n",
    ") ** (12) - 1\n",
    "annualized[\"Standard Deviation\"] = annualized[\"Standard Deviation\"] * (12 ** 0.5)\n"
   ]
  },
  {
   "cell_type": "code",
   "execution_count": null,
   "metadata": {},
   "outputs": [],
   "source": [
    "annualized.style.format(proper_format)\n"
   ]
  },
  {
   "cell_type": "markdown",
   "metadata": {},
   "source": [
    " ### B. Table 2: Covariance Matrix"
   ]
  },
  {
   "cell_type": "code",
   "execution_count": null,
   "metadata": {},
   "outputs": [],
   "source": [
    "# All formulas related to variances (i.e., standard deviations, covariance)\n",
    "# will have `dd=0` for the population standard deviation.\n",
    "returns.cov(ddof=0)\n"
   ]
  },
  {
   "cell_type": "markdown",
   "metadata": {},
   "source": [
    " ### C. Table 3: Correlation Matrix"
   ]
  },
  {
   "cell_type": "code",
   "execution_count": null,
   "metadata": {},
   "outputs": [],
   "source": [
    "returns.corr()\n"
   ]
  },
  {
   "cell_type": "code",
   "execution_count": null,
   "metadata": {},
   "outputs": [],
   "source": [
    "# sns.set(rc={\"figure.figsize\": (8, 8)})\n",
    "sns.heatmap(\n",
    "    returns.corr(),\n",
    "    annot=True,\n",
    "    cmap=\"RdBu_r\",\n",
    "    square=True,\n",
    "    vmin=-1,\n",
    "    vmax=1,\n",
    ").set_title(\"Correlation Matrix\")\n",
    "plt.show()\n"
   ]
  },
  {
   "cell_type": "markdown",
   "metadata": {},
   "source": [
    " ### D. Prospectus Strategy\n",
    "\n",
    " Using each fund’s prospectus or information you find on the web, state in your\n",
    " own words the strategy and philosophy of each fund."
   ]
  },
  {
   "cell_type": "markdown",
   "metadata": {},
   "source": [
    " | ETF          | COPX                                                         | CURE                                                         | TAN                                                          | TECL                                                         | UNL                                                          |\n",
    " | ------------ | ------------------------------------------------------------ | ------------------------------------------------------------ | ------------------------------------------------------------ | ------------------------------------------------------------ | ------------------------------------------------------------ |\n",
    " | **Name**     | Global X Copper Miners ETF                                   | Direxion Daily Healthcare Bull 3X Shares                     | Invesco Solar ETF                                            | Direxion Daily Technology Bull 3x Shares                     | United States 12 Month Natural Gas Fund, LP                  |\n",
    " | **About**    | COPX tracks a market-cap-weighted index of global copper mining companies. | CURE provides 3x levered exposure to a market-cap-weighted sub-index of the S&P 500 that tracks the performance of US-listed health care companies. | TAN tracks an index of global solar energy companies selected based on the revenue generated from solar-related business. | TECL provides 3x leveraged exposure to a market-cap weighted index of US large-cap technology companies. | UNL holds the 12 nearest-month NYMEX natural gas futures contracts in equal weights. |\n",
    " | **Category** | Basic Materials                                              | Trading--Leveraged Equity                                    | Miscellaneous Sector                                         | Trading--Leveraged Equity                                    | Commodities Focused                                          |\n",
    " | **Strategy** | Vanilla                                                      | Vanilla                                                      | Fundamental                                                  | Vanilla                                                      | Laddered                                                     |\n",
    " | **Segment**  | Equity: Global Copper Miners                                 | Leveraged Equity: U.S. Health Care                           | Equity: Global Renewable Energy                              | Leveraged Equity: U.S. Information Technology                | Commodities: Energy Natural Gas                              |\n",
    " | **Niche**    | ETF                                                          | COPXBroad-based                                              | CURERenewable Energy                                         | TANBroad-based                                               | TECLLaddered                                                 |"
   ]
  },
  {
   "cell_type": "markdown",
   "metadata": {},
   "source": [
    " ## Part Two"
   ]
  },
  {
   "cell_type": "markdown",
   "metadata": {},
   "source": [
    " ### A. CAPM\n",
    "\n",
    " Using Treasury bill rates and the S&P 500 index, run a “CAPM” regression to\n",
    " estimate the beta of each fund. Constant maturity 3-month T-bill rates can be\n",
    " obtained on the web site of The Federal Reserve Bank of Saint Louis, Missouri\n",
    " (“FRED”). These rates are quoted in an annualized format, so adjust them\n",
    " according to your needs."
   ]
  },
  {
   "cell_type": "markdown",
   "metadata": {},
   "source": [
    " Beta is defined as:\n",
    "\n",
    " $$\n",
    " \\beta_i = \\frac{\\sigma_{iM}}{\\sigma^{2}_{M}}\n",
    " $$"
   ]
  },
  {
   "cell_type": "code",
   "execution_count": null,
   "metadata": {},
   "outputs": [],
   "source": [
    "# Note that Python uses zero-indices\n",
    "T13W = pdr.DataReader(\"GS3M\", \"fred\", \"02/2017\", end)\n",
    "Rm = yf.download([\"^GSPC\", \"^DJI\"], start=start, end=end, interval=\"1mo\")[\"Adj Close\"]\n",
    "Rm = Rm.pct_change().dropna()\n"
   ]
  },
  {
   "cell_type": "markdown",
   "metadata": {},
   "source": [
    " Since Treasury Bill Rates are quoted annually and already in percentage form,\n",
    " we will convert this to decimal and monthly return.\n",
    "\n",
    "\n",
    " According to the [U.S. Treasury](https://home.treasury.gov/policy-issues/financing-the-government/interest-rate-statistics/interest-rates-frequently-asked-questions),\n",
    " the Constant Maturity Rates are _expressed on a simple annualized basis_,\n",
    " therefore to convert them to a monthly basis, we will multiply by `12`."
   ]
  },
  {
   "cell_type": "code",
   "execution_count": null,
   "metadata": {},
   "outputs": [],
   "source": [
    "T13W = T13W.div(100).div(12)\n"
   ]
  },
  {
   "cell_type": "markdown",
   "metadata": {},
   "source": [
    " The traditional equation for the Capital Asset Pricing Model\n",
    " (CAPM) is as follows:\n",
    "\n",
    " $$ R_i = R_f + \\beta(R_m -  R_f) $$\n",
    "\n",
    " yet we are looking to find the our beta coefficient, which we can find by\n",
    " re-arranging the equation into:\n",
    "\n",
    " $$ R_i - R_f = \\beta(R_m - R_f) $$\n",
    "\n",
    " which translates into:\n",
    "\n",
    " $$ R_\\text{Fund} - R_{\\text{TBill 13W}} =  \\beta(R_{\\text{S&P500}} -\n",
    " R_{\\text{TBill 13W}}) \\\\\n",
    " $$"
   ]
  },
  {
   "cell_type": "markdown",
   "metadata": {},
   "source": [
    " ### B. β\n",
    "\n",
    " Repeat part A using this time the Dow Jones Industrial Average instead of the\n",
    " S&P 500 index."
   ]
  },
  {
   "cell_type": "code",
   "execution_count": null,
   "metadata": {},
   "outputs": [],
   "source": [
    "# Run the regression for each fund with S^P500 as the benchmark\n",
    "sp500_ols = [sm.OLS(endog=returns[fund], exog=Rm[\"^GSPC\"]).fit() for fund in funds]\n"
   ]
  },
  {
   "cell_type": "code",
   "execution_count": null,
   "metadata": {},
   "outputs": [],
   "source": [
    "# Run the regression for each fund with the DJIA as the benchmark\n",
    "djia_ols = [sm.OLS(endog=returns[fund], exog=Rm[\"^DJI\"]).fit() for fund in funds]\n"
   ]
  },
  {
   "cell_type": "code",
   "execution_count": null,
   "metadata": {},
   "outputs": [],
   "source": [
    "for result in sp500_ols:\n",
    "    display(result.summary())\n"
   ]
  },
  {
   "cell_type": "code",
   "execution_count": null,
   "metadata": {},
   "outputs": [],
   "source": [
    "# Extract the beta coefficients\n",
    "sp500_beta = [sp500_ols[fund].params[0] for fund in range(5)]\n",
    "djia_beta = [djia_ols[fund].params[0] for fund in range(5)]\n"
   ]
  },
  {
   "cell_type": "code",
   "execution_count": null,
   "metadata": {},
   "outputs": [],
   "source": [
    "betas = pd.DataFrame([sp500_beta, djia_beta], columns=funds, index=[\"^GSPC\", \"^DJI\"])\n",
    "display(Markdown(\"$\\\\beta$ per Fund and Market\"), betas)\n"
   ]
  },
  {
   "cell_type": "code",
   "execution_count": null,
   "metadata": {},
   "outputs": [],
   "source": [
    "riskFree = T13W.mean()[0]\n",
    "returnSP = Rm[\"^GSPC\"].mean()\n",
    "returnDJIA = Rm[\"^DJI\"].mean()\n"
   ]
  },
  {
   "cell_type": "markdown",
   "metadata": {},
   "source": [
    " $$E(R_i) = R_f + \\beta(R_m -  R_f)$$"
   ]
  },
  {
   "cell_type": "code",
   "execution_count": null,
   "metadata": {},
   "outputs": [],
   "source": [
    "E_R = pd.DataFrame()\n",
    "E_R[\"^GSPC\"] = riskFree + betas.T[\"^GSPC\"] * (returnDJIA - riskFree)\n",
    "E_R[\"^DJI\"] = riskFree + betas.T[\"^DJI\"] * (returnDJIA - riskFree)\n"
   ]
  },
  {
   "cell_type": "code",
   "execution_count": null,
   "metadata": {},
   "outputs": [],
   "source": [
    "display(Markdown(\"$E(R)$ Expected Return explained by $R_m$\"))\n",
    "display(\n",
    "    E_R.sort_index().T.style.format(PERCENT),\n",
    "    table_1[\"Arithmetic Mean\"].sort_index().to_frame().T.style.format(PERCENT),\n",
    ")\n"
   ]
  },
  {
   "cell_type": "code",
   "execution_count": null,
   "metadata": {},
   "outputs": [],
   "source": [
    "buy_suggestion = pd.DataFrame()\n",
    "buy_suggestion[\"^GSPC\"] = (\n",
    "    E_R[\"^GSPC\"].sort_index() < table_1[\"Arithmetic Mean\"].sort_index()\n",
    ")\n",
    "buy_suggestion[\"^DJI\"] = (\n",
    "    E_R[\"^DJI\"].sort_index() < table_1[\"Arithmetic Mean\"].sort_index()\n",
    ")\n",
    "display(\n",
    "    Markdown(\n",
    "        \"Buy Suggestion: if actual return is larger than expected return $R_i > E(R)$\"\n",
    "    )\n",
    ")\n",
    "buy_suggestion.sort_index()\n"
   ]
  },
  {
   "cell_type": "markdown",
   "metadata": {},
   "source": [
    " ### C. Table 4\n",
    "\n",
    " Show the T-bill rates and the two index levels in tabular form."
   ]
  },
  {
   "cell_type": "code",
   "execution_count": null,
   "metadata": {},
   "outputs": [],
   "source": [
    "table_4 = pd.concat([Rm, T13W], axis=1)\n",
    "table_4\n"
   ]
  },
  {
   "cell_type": "code",
   "execution_count": null,
   "metadata": {},
   "outputs": [],
   "source": [
    "fig, ax = plt.subplots(figsize=(8, 5))\n",
    "ax.plot(table_4, label=table_4.columns)\n",
    "ax.axvspan(\n",
    "    date2num(datetime(2020, 2, 1)),\n",
    "    date2num(datetime(2020, 4, 1)),\n",
    "    label=\"COVID-19 Downturn\",\n",
    "    color=\"grey\",\n",
    "    alpha=0.3,\n",
    ")\n",
    "ax.legend(loc=3)\n",
    "ax.yaxis.set_major_formatter(mtick.PercentFormatter())\n",
    "ax.set_title(\n",
    "    \"S&P 500, Dow Jones Industrial Average,\"\n",
    "    \"\\n\"\n",
    "    \"Market Yield on U.S. Treasury Securities at 3-Month Constant Maturity\"\n",
    "    \"\\n\"\n",
    "    \"Monthly Returns\"\n",
    ")\n",
    "plt.show()\n"
   ]
  },
  {
   "cell_type": "markdown",
   "metadata": {},
   "source": [
    " ### D. Essay: Differences between Dow Jones and S&P 500"
   ]
  },
  {
   "cell_type": "code",
   "execution_count": null,
   "metadata": {},
   "outputs": [],
   "source": [
    "display(Markdown(\"$E(R)$ Expected Return explained by $R_m$\"))\n",
    "display(\n",
    "    E_R.sort_index().T.style.format(PERCENT),\n",
    "    table_1[\"Arithmetic Mean\"].sort_index().to_frame().T.style.format(PERCENT),\n",
    ")\n"
   ]
  },
  {
   "cell_type": "code",
   "execution_count": null,
   "metadata": {},
   "outputs": [],
   "source": [
    "returns_tidy = pd.melt(returns.reset_index(), id_vars=\"Date\").set_index(\"Date\")\n",
    "returns_tidy = returns_tidy.rename(columns={\"variable\": \"Fund\", \"value\": \"Return\"})\n"
   ]
  },
  {
   "cell_type": "code",
   "execution_count": null,
   "metadata": {
    "jupyter": {
     "source_hidden": true
    },
    "tags": []
   },
   "outputs": [],
   "source": [
    "# This complicated code is to make running possible on Google Colab\n",
    "try:\n",
    "    tidy_data = pd.concat([pd.concat([table_4] * 5), returns_tidy], axis=1)\n",
    "    tidy_data.to_pickle(\"data/tidy_huh.pkl\")\n",
    "except:\n",
    "    get_ipython().system(\n",
    "        \"wget https://raw.githubusercontent.com/danielcs88/project_fin6525/main/data/tidy_huh.pkl\"\n",
    "    )\n",
    "    with open(\"tidy_huh.pkl\", \"rb\") as fh:\n",
    "        tidy_data = pickle.load(fh)\n"
   ]
  },
  {
   "cell_type": "code",
   "execution_count": null,
   "metadata": {},
   "outputs": [],
   "source": [
    "sns.set(rc={\"figure.figsize\": (6, 30)})\n",
    "sns.lmplot(x=\"^GSPC\", y=\"Return\", col=\"Fund\", data=tidy_data)\n",
    "plt.show()\n"
   ]
  },
  {
   "cell_type": "code",
   "execution_count": null,
   "metadata": {},
   "outputs": [],
   "source": [
    "sns.set(rc={\"figure.figsize\": (6, 30)})\n",
    "sns.lmplot(x=\"^DJI\", y=\"Return\", col=\"Fund\", data=tidy_data)\n",
    "plt.show()\n",
    "\n"
   ]
  },
  {
   "cell_type": "markdown",
   "metadata": {},
   "source": [
    " In my particular case, the differences in Expected Return explained by market\n",
    " returns by the S&P 500 or the Dow Jones Industrial Average were little.\n",
    "\n",
    " The only fund that didn’t perform identically was\n",
    " [**UNL**](https://finance.yahoo.com/quote/UNL?p=UNL](https://www.google.com/url?q=https://finance.yahoo.com/quote/UNL?p%3DUNL&sa=D&source=editors&ust=1644906676549149&usg=AOvVaw2_AqMFz1d5je1uQkf0XAP0).\n",
    " This can be explained by the negative beta values ($\\beta_{\\text{S&P}}=-0.08$,\n",
    " $\\beta_{\\text{DJIA}}=-0.14$) from its regression with market returns. While this\n",
    " fund had the worst mean individual returns ($R_{\\text{UNL}}=10.9\\%$ monthly), it\n",
    " compensated this by having the lowest risk ($\\sigma=28.06\\%$) of the portfolio.\n",
    " UNL also served as a hedge against all other assets in the portfolio and the\n",
    " expected return. Its average correlation with all the assets stands at 3.5% (all\n",
    " correlations are negative with all assets).\n",
    "\n",
    " However, by running a correlation analysis between the S&P 500 and the Dow\n",
    " Jones, it is easy to see why the results are consistently similar; they are 96%\n",
    " correlated with each other.\n",
    "\n",
    " Another reason, in my opinion why the results are so similar is the ultra-low\n",
    " Treasury rates observed throughout the 5-year period. People have little to no\n",
    " incentive to purchase Treasury bills.\n",
    "\n",
    " Lastly, this period has been one for analysis galore. Supply shocks, demand\n",
    " shocks. Oil and energy plunging in the heart of the pandemic and now reaching\n",
    " almost $100 a barrel.\n",
    "\n",
    " It has been characterized by a very easy monetary policy throughout, it was\n",
    " defined by three key events.\n",
    "\n",
    " 1. Trump Administration monetary policy:\n",
    "\n",
    "    1. Tax Cuts and Jobs Act (TCJA)\n",
    "\n",
    " 2. COVID-19 Market Crash\n",
    "    1. Coronavirus Aid, Relief, and Economic Security Act (CARES Act): $2.2\n",
    "       trillion economic stimulus\n",
    "    2. Low Treasury Yields\n",
    "    3. Federal Reserve\n",
    "       1. Monetary Easing and Purchase of Treasury Bonds\n",
    " 3. COVID-19 Recovery\n",
    "    1. Demand shocks\n",
    "    2. Supply chain inefficiencies\n",
    "\n",
    " People have never had more reasons to trade stocks. All between being\n",
    " quarantined in a pandemic with little to do and federal money being put in\n",
    " Americans’ pockets, has produced sky-high records in the market.\n"
   ]
  },
  {
   "cell_type": "code",
   "execution_count": null,
   "metadata": {},
   "outputs": [],
   "source": [
    "pd.melt(pd.concat([returns, table_4], axis=1))\n"
   ]
  },
  {
   "cell_type": "code",
   "execution_count": null,
   "metadata": {},
   "outputs": [],
   "source": [
    "sns.displot(\n",
    "    (\n",
    "        pd.melt(\n",
    "            pd.concat([returns, table_4], axis=1)[\n",
    "                [\"COPX\", \"CURE\", \"TAN\", \"TECL\", \"UNL\", \"^DJI\", \"^GSPC\"]\n",
    "            ]\n",
    "        )\n",
    "    ),\n",
    "    x=\"value\",\n",
    "    hue=\"variable\",\n",
    "    kind=\"kde\",\n",
    ")\n"
   ]
  },
  {
   "cell_type": "code",
   "execution_count": null,
   "metadata": {},
   "outputs": [],
   "source": [
    "sns.set(rc={\"figure.figsize\": (8, 8)})\n",
    "sns.heatmap(\n",
    "    pd.concat([returns, table_4], axis=1).corr(),\n",
    "    annot=True,\n",
    "    cmap=\"RdBu_r\",\n",
    "    square=True,\n",
    "    vmin=-1,\n",
    "    vmax=1,\n",
    ").set_title(\"Correlation Matrix: Funds and (S&P500, DJIA, Treasury)\")\n",
    "plt.show()\n"
   ]
  },
  {
   "cell_type": "code",
   "execution_count": null,
   "metadata": {},
   "outputs": [],
   "source": [
    "sns.set(rc={\"figure.figsize\": (6, 6)})\n",
    "sns.heatmap(\n",
    "    table_4.corr(),\n",
    "    annot=True,\n",
    "    # cmap=\"RdBu_r\",\n",
    "    square=True,\n",
    "    vmin=-1,\n",
    "    vmax=1,\n",
    ").set_title(\"Correlation Matrix: Table 4 (S&P500, DJIA, Treasury)\")\n",
    "plt.show()\n"
   ]
  },
  {
   "cell_type": "code",
   "execution_count": null,
   "metadata": {},
   "outputs": [],
   "source": [
    "# sns.reset_defaults()\n"
   ]
  },
  {
   "cell_type": "markdown",
   "metadata": {},
   "source": [
    " ### E. Runs Test: S&P 500"
   ]
  },
  {
   "cell_type": "markdown",
   "metadata": {},
   "source": [
    " $$\n",
    " \\begin{align}\n",
    " Z &= \\frac{R-\\bar{x}}{\\sigma} \\\\\n",
    " \\text{where } R &= \\text{number of runs;} \\\\\n",
    " \\bar{x} &= \\frac{2n_1 n_2}{n_1+ n_2} + 1 \\\\\n",
    " \\sigma^2 &= \\frac{2n_1 n_2 (2n_1 n_2 - n_1 - n_2)}{(n_1+n_2)^2 (n_1 + n_2 - 1)} \\\\\n",
    " n_1, n_2 &= \\text{number of observations in each category} \\\\\n",
    " Z &= \\text{standard normal variable}\n",
    " \\end{align}\n",
    " $$"
   ]
  },
  {
   "cell_type": "code",
   "execution_count": null,
   "metadata": {},
   "outputs": [],
   "source": [
    "sp500 = Rm[\"^GSPC\"]\n",
    "\n"
   ]
  },
  {
   "cell_type": "code",
   "execution_count": null,
   "metadata": {},
   "outputs": [],
   "source": [
    "def num_runs(array) -> int:\n",
    "    \"\"\"\n",
    "    Performs a Runs Test on an array of values, to calculate the number of runs\n",
    "    and location (indices of runs)\n",
    "\n",
    "    Parameters\n",
    "    ----------\n",
    "    array : np.ndarray\n",
    "        [description]\n",
    "\n",
    "    Returns\n",
    "    -------\n",
    "    int\n",
    "        Number of runs in an array.\n",
    "    \"\"\"\n",
    "\n",
    "    # Check where the indices change\n",
    "    # array[:-1] = all elements except last\n",
    "    # array[1:] =  all elments except first\n",
    "    # np.sign will check sign of elements in array\n",
    "    # - convert to 1 if positive\n",
    "    # - convert to -1 if negative\n",
    "    array = np.array(array)\n",
    "    indices = np.where(np.sign(array[:-1]) != np.sign(array[1:]))[0] + 1\n",
    "    # return len(indices), indices\n",
    "    return len(indices)\n",
    "\n"
   ]
  },
  {
   "cell_type": "code",
   "execution_count": null,
   "metadata": {},
   "outputs": [],
   "source": [
    "Z = num_runs(sp500)\n"
   ]
  },
  {
   "cell_type": "code",
   "execution_count": null,
   "metadata": {},
   "outputs": [],
   "source": [
    "np.sign(sp500).value_counts()\n",
    "\n"
   ]
  },
  {
   "cell_type": "code",
   "execution_count": null,
   "metadata": {},
   "outputs": [],
   "source": [
    "def runs_test(array) -> float:\n",
    "    R = num_runs(array)\n",
    "    n1, n2 = list(np.sign(array).value_counts().values)\n",
    "    x_bar = (2 * n1 * n2) / (n1 + n2) + 1\n",
    "    sigma_sq = (\n",
    "        2 * n1 * n2 * (2 * n1 * n2 - n1 - n2) / (((n1 + n2) ** 2) * (n1 + n2 - 1))\n",
    "    )\n",
    "    Z = (R - x_bar) / np.sqrt(sigma_sq)\n",
    "    return Z\n",
    "\n"
   ]
  },
  {
   "cell_type": "code",
   "execution_count": null,
   "metadata": {},
   "outputs": [],
   "source": [
    "Z = runs_test(sp500)\n",
    "Z\n"
   ]
  },
  {
   "cell_type": "code",
   "execution_count": null,
   "metadata": {},
   "outputs": [],
   "source": [
    "Z, p = runs.runstest_1samp(Rm[\"^GSPC\"])\n",
    "runs.runstest_1samp(Rm[\"^GSPC\"])\n"
   ]
  },
  {
   "cell_type": "markdown",
   "metadata": {},
   "source": [
    " #### Runs Test Interpretation"
   ]
  },
  {
   "cell_type": "code",
   "execution_count": null,
   "metadata": {},
   "outputs": [],
   "source": [
    "np.sign(sp500).value_counts()\n"
   ]
  },
  {
   "cell_type": "code",
   "execution_count": null,
   "metadata": {},
   "outputs": [],
   "source": [
    "display(\n",
    "    Markdown(\n",
    "        f\"\"\"Our Z statistic of **{Z:.3f}** is not close to the standard\n",
    "normal distribution mean of 0.\n",
    "\n",
    "We cannot be 95 percent certain that our observed stock prices\n",
    "did not happen by chance unless we get a Z statistic whose absolute value is\n",
    "1.96 or greater.\n",
    "\n",
    "I did all the work above _show my work_, but thankfully Python does have a\n",
    "faster method for this through `statsmodels`.\"\"\"\n",
    "    )\n",
    ")\n"
   ]
  },
  {
   "cell_type": "code",
   "execution_count": null,
   "metadata": {},
   "outputs": [],
   "source": [
    "display(\n",
    "    Markdown(\n",
    "        f\"\"\"The z-test statistic turns out to be **$Z={Z:.3f}$** and the\n",
    "corresponding p-value is **$p={p:.3f}$**. Since this p-value is not less than\n",
    "α = .05, we fail to reject the null hypothesis. We have sufficient evidence to\n",
    "say that the data was produced in a random manner.\"\"\"\n",
    "    )\n",
    ")\n"
   ]
  },
  {
   "cell_type": "markdown",
   "metadata": {},
   "source": [
    " ## Part Three"
   ]
  },
  {
   "cell_type": "markdown",
   "metadata": {},
   "source": [
    " #### A. Table 5"
   ]
  },
  {
   "cell_type": "markdown",
   "metadata": {},
   "source": [
    " A. Construct an equally-weighted portfolio of your five funds. Prepare a table\n",
    " showing the arithmetic mean return, geometric mean return, and standard\n",
    " deviation of return for the five-fund portfolio over the five years [TABLE 5]."
   ]
  },
  {
   "cell_type": "markdown",
   "metadata": {},
   "source": [
    " To calculate the standard deviation of the portfolio, we will use the formula\n",
    " of the variance of the portfolio and take its square root.\n",
    "\n",
    " $$\n",
    " \\Large\n",
    " \\begin{gather} \\notag\n",
    " \\begin{aligned}\n",
    " \\sigma_p &= \\sqrt{w' V w} \\\\\n",
    " &= \\sqrt{\\begin{bmatrix} 0.2 & 0.2 & 0.2 & 0.2 & 0.2 \\end{bmatrix} \\mathbf{V}\n",
    " \\begin{bmatrix} 0.2 \\\\ 0.2 \\\\ 0.2 \\\\ 0.2 \\\\ 0.2 \\end{bmatrix}}\n",
    " \\end{aligned}\n",
    " \\end{gather}\n",
    " $$"
   ]
  },
  {
   "cell_type": "code",
   "execution_count": null,
   "metadata": {},
   "outputs": [],
   "source": [
    "# Equal weighted portfolio weights\n",
    "w = np.array([[0.2] * 5])\n"
   ]
  },
  {
   "cell_type": "code",
   "execution_count": null,
   "metadata": {},
   "outputs": [],
   "source": [
    "table_5 = pd.Series(\n",
    "    {\n",
    "        \"Arithmetic Mean\": returns.mean().dot(w.T).item(0),\n",
    "        \"Geometric Mean\": (gmean(returns + 1) - 1).dot(w.T).item(0),\n",
    "        \"Standard Deviation\": np.sqrt(w.dot(returns.cov(ddof=0)).dot(w.T).item(0)),\n",
    "    }\n",
    ").to_frame()\n",
    "table_5 = table_5.T\n",
    "table_5.index = [\"Equally Weighted Portfolio\"]\n",
    "table_5.style.format(proper_format)\n"
   ]
  },
  {
   "cell_type": "markdown",
   "metadata": {},
   "source": [
    " ### B. Graph 1\n",
    "\n",
    " Using Excel, prepare a graph showing the five-year performance of each of your\n",
    " funds and the five-fund portfolio. This chart should show the dollar value of\n",
    " an initial \\\\$10,000 investment evolving month-by-month over the five-year\n",
    " period."
   ]
  },
  {
   "cell_type": "markdown",
   "metadata": {},
   "source": [
    " #### Static Graph"
   ]
  },
  {
   "cell_type": "code",
   "execution_count": null,
   "metadata": {},
   "outputs": [],
   "source": [
    "portfolio_five = pd.DataFrame(\n",
    "    {\"Equally Weigthed Portfolio\": 10000 * (1 + returns.mean(axis=1)).cumprod()}\n",
    ")\n"
   ]
  },
  {
   "cell_type": "code",
   "execution_count": null,
   "metadata": {},
   "outputs": [],
   "source": [
    "sep_funds = (1 + returns).cumprod() * 10000\n"
   ]
  },
  {
   "cell_type": "code",
   "execution_count": null,
   "metadata": {},
   "outputs": [],
   "source": [
    "investments = pd.concat([portfolio_five, sep_funds], axis=1)\n"
   ]
  },
  {
   "cell_type": "code",
   "execution_count": null,
   "metadata": {},
   "outputs": [],
   "source": [
    "fig, ax = plt.subplots(figsize=(12, 7))\n",
    "ax.plot(\n",
    "    investments[\"Equally Weigthed Portfolio\"],\n",
    "    label=\"Equally Weighted Portfolio\",\n",
    "    linestyle=\":\",\n",
    ")\n",
    "ax.plot(investments[funds], label=funds)\n",
    "ax.axvspan(\n",
    "    date2num(datetime(2020, 2, 1)),\n",
    "    date2num(datetime(2020, 4, 1)),\n",
    "    label=\"COVID-19 Downturn\",\n",
    "    color=\"grey\",\n",
    "    alpha=0.3,\n",
    ")\n",
    "ax.legend()\n",
    "\n",
    "ax.yaxis.set_major_formatter(mtick.StrMethodFormatter(\"${x:,.0f}\"))\n",
    "ax.set_ylabel(\"Terminal Value\")\n",
    "ax.set_title(\"Graph 1: Portfolio Monthly Return vs. Individual Funds\")\n",
    "ax.set_ylim(1500, 145000)\n",
    "plt.show()\n"
   ]
  },
  {
   "cell_type": "code",
   "execution_count": null,
   "metadata": {},
   "outputs": [],
   "source": [
    "pandas_bokeh.output_notebook()\n"
   ]
  },
  {
   "cell_type": "markdown",
   "metadata": {},
   "source": [
    " #### Dynamic Graph\n",
    "\n",
    " If I wanted a more interactive plot, I could use `pandas-bokeh`"
   ]
  },
  {
   "cell_type": "code",
   "execution_count": null,
   "metadata": {},
   "outputs": [],
   "source": [
    "investments.plot_bokeh.line(\n",
    "    title=\"Graph 1: Individual Funds vs Portfolio\",\n",
    "    disable_scientific_axes=\"y\",\n",
    "    number_format=\"‘$0,0.0’\",\n",
    "    ylabel=\"Terminal Value [$]\",\n",
    "    legend=\"top_left\",\n",
    "    figsize=(1024, 600),\n",
    "    panning=False,\n",
    "    zooming=False,\n",
    ")\n"
   ]
  },
  {
   "cell_type": "markdown",
   "metadata": {},
   "source": [
    " ## Part 4"
   ]
  },
  {
   "cell_type": "markdown",
   "metadata": {},
   "source": [
    " Using the five-year performance statistics of your five funds and the\n",
    " five-fund portfolio, determine and show graphically the efficient set using\n",
    " the following:"
   ]
  },
  {
   "cell_type": "markdown",
   "metadata": {},
   "source": [
    " ### A. Graph 2: Mean Variance Plot\n",
    "\n",
    " This is merely a standard deviation / expected return plot showing six points,\n",
    " one for each fund and one for the five-fund portfolio. Identify the point that\n",
    " shows the best return per unit of risk."
   ]
  },
  {
   "cell_type": "code",
   "execution_count": null,
   "metadata": {},
   "outputs": [],
   "source": [
    "mean_std = [table_1.columns[i] for i in [0, 2]]\n",
    "mean_var = pd.concat([table_1[mean_std], table_5[mean_std]])\n",
    "mean_var.style.format(proper_format)\n"
   ]
  },
  {
   "cell_type": "code",
   "execution_count": null,
   "metadata": {},
   "outputs": [],
   "source": [
    "mean_var = mean_var.reset_index()\n",
    "mean_var.columns = [\"Index\", \"Expected Return\", \"Standard Deviation\"]\n"
   ]
  },
  {
   "cell_type": "code",
   "execution_count": null,
   "metadata": {},
   "outputs": [],
   "source": [
    "mean_var_plot = sns.scatterplot(\n",
    "    data=mean_var, x=\"Standard Deviation\", y=\"Expected Return\", hue=\"Index\"\n",
    ").set(title=\"Mean Variance Plot\")\n",
    "plt.gca().yaxis.set_major_formatter(mtick.PercentFormatter(1))\n",
    "plt.gca().xaxis.set_major_formatter(mtick.PercentFormatter(1))\n",
    "\n"
   ]
  },
  {
   "cell_type": "markdown",
   "metadata": {},
   "source": [
    " #### Globally Minimum Variance Portfolio\n",
    "\n",
    " $$\n",
    " \\LARGE\n",
    " \\begin{matrix}\n",
    " \\notag\n",
    " \\mu_{*} = \\frac{ \\mathbf{1}' \\mathbf{V}^{-1} \\mathbf{\\mu} } {\\mathbf{1}' \\mathbf{V}^{-1} \\mathbf{1}  } &\n",
    " \\sigma_{*}^{2} = (\\mathbf{1}' \\mathbf{V}^{-1} \\mathbf{1})^{-1} &\n",
    " w_{*} = \\frac{\\mathbf{V}^{-1} \\mathbf{1}}{\\mathbf{1}' \\mathbf{V}^{-1} \\mathbf{1}}\n",
    " \\end{matrix}\n",
    " $$"
   ]
  },
  {
   "cell_type": "code",
   "execution_count": null,
   "metadata": {},
   "outputs": [],
   "source": [
    "mu = table_1[\"Arithmetic Mean\"]\n",
    "V = returns.cov(ddof=0)\n",
    "one = np.ones((5, 1))\n"
   ]
  },
  {
   "cell_type": "code",
   "execution_count": null,
   "metadata": {},
   "outputs": [],
   "source": [
    "w_star = pd.DataFrame(\n",
    "    np.linalg.inv(V).dot(one) / (one.T.dot(np.linalg.inv(V))).dot(one),\n",
    "    index=returns.columns,\n",
    "    columns=[\"w*\"],\n",
    ")\n",
    "w_star\n"
   ]
  },
  {
   "cell_type": "code",
   "execution_count": null,
   "metadata": {},
   "outputs": [],
   "source": [
    "mu_star = (\n",
    "    one.T.dot(np.linalg.inv(V)).dot(mu) / (one.T.dot(np.linalg.inv(V))).dot(one).item(0)\n",
    ").item(0)\n",
    "print(\"μ* =\", f\"{mu_star:,.3%} monthly\")\n",
    "print(\"μ* =\", f\"{((1+mu_star)**12)-1:,.3%} monthly\")\n"
   ]
  },
  {
   "cell_type": "code",
   "execution_count": null,
   "metadata": {},
   "outputs": [],
   "source": [
    "var_star = np.linalg.inv((one.T.dot(np.linalg.inv(V))).dot(one)).item(0)\n",
    "print(\"σ²* =\", f\"{var_star:.4f}\")\n",
    "print(\"σ* =\", f\"{np.sqrt(var_star):,.4%}\")\n"
   ]
  },
  {
   "cell_type": "markdown",
   "metadata": {},
   "source": [
    " As reference let's add these points to our Mean Variance Plot"
   ]
  },
  {
   "cell_type": "code",
   "execution_count": null,
   "metadata": {},
   "outputs": [],
   "source": [
    "mean_var = mean_var.append(\n",
    "    pd.Series(\n",
    "        {\n",
    "            \"Index\": \"Global Minimum Variance Portfolio\",\n",
    "            \"Expected Return\": mu_star,\n",
    "            \"Standard Deviation\": np.sqrt(var_star),\n",
    "        }\n",
    "    ),\n",
    "    ignore_index=True,\n",
    ")\n"
   ]
  },
  {
   "cell_type": "code",
   "execution_count": null,
   "metadata": {},
   "outputs": [],
   "source": [
    "with pd.option_context(\"display.float_format\", PERCENT.format):\n",
    "    display(mean_var)\n"
   ]
  },
  {
   "cell_type": "code",
   "execution_count": null,
   "metadata": {},
   "outputs": [],
   "source": [
    "mean_var_plot = sns.scatterplot(\n",
    "    data=mean_var, x=\"Standard Deviation\", y=\"Expected Return\", hue=\"Index\"\n",
    ").set(title=\"Mean Variance Plot\")\n",
    "plt.gca().yaxis.set_major_formatter(mtick.PercentFormatter(1))\n",
    "plt.gca().xaxis.set_major_formatter(mtick.PercentFormatter(1))\n",
    "\n"
   ]
  },
  {
   "cell_type": "markdown",
   "metadata": {},
   "source": [
    " ### B. Graph 3: Mean-Variance Frontier\n",
    "\n",
    " Using the matrix Excel-based techniques learned in class, use the five funds\n",
    " and their statistics to derive the mean-variance frontier. Draw a plot showing\n",
    " the frontier as well as the 5 mean-variance points of the five individual\n",
    " funds."
   ]
  },
  {
   "cell_type": "markdown",
   "metadata": {},
   "source": [
    " **Efficient Portfolio Frontier**\n",
    " $$\n",
    " \\Large\n",
    " \\sigma^{2}_{p} = \\begin{bmatrix}E(R_p) \\\\ 1 \\end{bmatrix}'  \\left(\\begin{bmatrix}\\mu_i & 1 \\\\ \\vdots & \\vdots \\\\ \\mu_n & 1\\end{bmatrix}' \\mathbf{V}^{-1} \\begin{bmatrix}\\mu_i & 1 \\\\ \\vdots & \\vdots \\\\ \\mu_n & 1\\end{bmatrix}\\right)^{-1} \\begin{bmatrix}E(R_p) \\\\ 1\\end{bmatrix}\n",
    " $$\n",
    "\n",
    " **Optimal Weights**\n",
    " $$\n",
    " \\Large\n",
    " \\underbrace{w}_{n \\times 1} = \\underbrace{\\underbrace{\\underbrace{\\mathbf{V}^{-1}}_{n \\times n} \\cdot \\underbrace{\\begin{bmatrix}\\mu_i & 1 \\\\ \\vdots & \\vdots \\\\ \\mu_n & 1\\end{bmatrix}}_{n \\times 2} \\cdot }_{n \\times 2}\\underbrace{\\left(\\underbrace{\\begin{bmatrix}\\mu_i & 1 \\\\ \\vdots & \\vdots \\\\ \\mu_n & 1\\end{bmatrix}'}_{2 \\times n} \\cdot \\underbrace{\\mathbf{V}^{-1}}_{n \\times n} \\cdot \\underbrace{\\begin{bmatrix}\\mu_i & 1 \\\\ \\vdots & \\vdots \\\\ \\mu_n & 1\\end{bmatrix}}_{n \\times 2}\\right)^{-1}}_{2 \\times 2} \\cdot \\underbrace{\\begin{bmatrix}E(R_p) \\\\ 1\\end{bmatrix}}_{2 \\times 1}}_{n \\times 1}\n",
    " $$"
   ]
  },
  {
   "cell_type": "markdown",
   "metadata": {},
   "source": [
    " I will convert all returns into annual returns to better interpret and\n",
    " visualize results:"
   ]
  },
  {
   "cell_type": "code",
   "execution_count": null,
   "metadata": {},
   "outputs": [],
   "source": [
    "def mean_variance_frontier(\n",
    "    required_return: float, timeframe: str = \"Y\", df: pd.DataFrame = returns\n",
    ") -> List:\n",
    "    \"\"\"\n",
    "    Helper function to calculate the mean-variance frontier.\n",
    "\n",
    "    Parameters\n",
    "    ----------\n",
    "    required_return : float\n",
    "        Required rate of return.\n",
    "    timeframe : str, optional\n",
    "        Annual timeframe for returns, if different parameter will return monthly\n",
    "        results, by default \"Y\"\n",
    "    df : pd.DataFrame, optional\n",
    "        DataFrame to pass to analyze, by default returns\n",
    "\n",
    "    Returns\n",
    "    -------\n",
    "    List\n",
    "        Returns a list of the following elements:\n",
    "        [Expected Return, Standard Deviation, W1, W2, W3, W4, W5]\n",
    "    \"\"\"\n",
    "\n",
    "    if timeframe == \"Y\":\n",
    "        mu = ((1 + returns.mean()) ** 12) - 1\n",
    "        V_inv = np.linalg.inv(df.cov(ddof=0) * 12)\n",
    "    else:\n",
    "        V_inv = np.linalg.inv(df.cov(ddof=0))\n",
    "        mu = df.mean()\n",
    "\n",
    "    ones = np.ones(len(df.columns))\n",
    "    mu_one = np.column_stack((mu, ones))\n",
    "\n",
    "    factor_1 = V_inv.dot(mu_one)\n",
    "    factor_2 = np.linalg.inv((mu_one.T.dot(V_inv)).dot(mu_one))\n",
    "    required_vector = np.array([[required_return], [1]])\n",
    "\n",
    "    w = np.squeeze((factor_1.dot(factor_2)).dot(required_vector))\n",
    "    expected_return = np.squeeze(w.T.dot(mu)).item(0)\n",
    "    sigma = np.squeeze(\n",
    "        np.sqrt((required_vector.T.dot(factor_2)).dot(required_vector))\n",
    "    ).item(0)\n",
    "\n",
    "    mean_var = pd.DataFrame((expected_return, sigma)).T\n",
    "    mean_var.columns = [\"E(Rp)\", \"SD(p)\"]\n",
    "\n",
    "    return functools.reduce(operator.iconcat, [[expected_return, sigma], w], [])\n",
    "\n"
   ]
  },
  {
   "cell_type": "code",
   "execution_count": null,
   "metadata": {},
   "outputs": [],
   "source": [
    "def frontier_df(required_return: float) -> pd.DataFrame:\n",
    "    \"\"\"\n",
    "    Helper function to generate a dataframe of the mean-variance frontier.\n",
    "\n",
    "    Parameters\n",
    "    ----------\n",
    "    required_return : float\n",
    "        Required rate of return.\n",
    "\n",
    "    Returns\n",
    "    -------\n",
    "    pd.DataFrame\n",
    "        Mean Variance Frontier in DataFrame format.\n",
    "    \"\"\"\n",
    "    frontier = [mean_variance_frontier(i) for i in np.linspace(0, required_return, 500)]\n",
    "    frontier_pd = pd.DataFrame(frontier)\n",
    "    frontier_pd.columns = functools.reduce(\n",
    "        operator.iconcat, [[\"E(Rp)\", \"SD(P)\"], returns.columns], []\n",
    "    )\n",
    "\n",
    "    return frontier_pd\n",
    "\n"
   ]
  },
  {
   "cell_type": "code",
   "execution_count": null,
   "metadata": {},
   "outputs": [],
   "source": [
    "frontier = frontier_df(0.4)\n",
    "\n",
    "with pd.option_context(\"display.float_format\", PERCENT.format):\n",
    "    display(frontier)\n",
    "\n"
   ]
  },
  {
   "cell_type": "markdown",
   "metadata": {},
   "source": [
    " Now to annualize the results:"
   ]
  },
  {
   "cell_type": "code",
   "execution_count": null,
   "metadata": {},
   "outputs": [],
   "source": [
    "def monthly_to_annual(df: pd.DataFrame = mean_var) -> pd.DataFrame:\n",
    "    \"\"\"\n",
    "    Helper function to convert monthly returns to annual returns.\n",
    "\n",
    "    Parameters\n",
    "    ----------\n",
    "    df : pd.DataFrame, optional\n",
    "        _description_, by default mean_var\n",
    "\n",
    "    Returns\n",
    "    -------\n",
    "    pd.DataFrame\n",
    "        Annualized returns in DataFrame format.\n",
    "    \"\"\"\n",
    "\n",
    "    df[\"Expected Return\"] = ((df[\"Expected Return\"] + 1) ** 12) - 1\n",
    "    df[\"Standard Deviation\"] = df[\"Standard Deviation\"] * (12 ** 0.5)\n",
    "\n",
    "    return df\n",
    "\n"
   ]
  },
  {
   "cell_type": "code",
   "execution_count": null,
   "metadata": {},
   "outputs": [],
   "source": [
    "annual_mean_var = monthly_to_annual()\n"
   ]
  },
  {
   "cell_type": "code",
   "execution_count": null,
   "metadata": {},
   "outputs": [],
   "source": [
    "with pd.option_context(\"display.float_format\", PERCENT.format):\n",
    "    display(annual_mean_var)\n"
   ]
  },
  {
   "cell_type": "code",
   "execution_count": null,
   "metadata": {},
   "outputs": [],
   "source": [
    "sns.set(rc={\"figure.figsize\": (10, 8)})\n",
    "mean_var_plot = sns.scatterplot(data=frontier_df(0.4), x=\"SD(P)\", y=\"E(Rp)\", s=5).set(\n",
    "    title=\"Mean Variance Plot\"\n",
    ")\n",
    "plt.gca().yaxis.set_major_formatter(mtick.PercentFormatter(1))\n",
    "plt.gca().xaxis.set_major_formatter(mtick.PercentFormatter(1))\n"
   ]
  },
  {
   "cell_type": "markdown",
   "metadata": {},
   "source": [
    " Since the annual return for one of my funds is nearly 100%, the shape of this\n",
    " frontier compared to each fund looks strange."
   ]
  },
  {
   "cell_type": "code",
   "execution_count": null,
   "metadata": {},
   "outputs": [],
   "source": [
    "sns.scatterplot(\n",
    "    data=annual_mean_var,\n",
    "    x=\"Standard Deviation\",\n",
    "    y=\"Expected Return\",\n",
    "    hue=\"Index\",\n",
    "    style=\"Index\",\n",
    ").set(title=\"Mean Variance Plot\")\n",
    "plt.gca().yaxis.set_major_formatter(mtick.PercentFormatter(1))\n",
    "plt.gca().xaxis.set_major_formatter(mtick.PercentFormatter(1))\n",
    "\n",
    "mean_var_plot = sns.scatterplot(data=frontier, x=\"SD(P)\", y=\"E(Rp)\").set(\n",
    "    title=\"Mean Variance Plot\"\n",
    ")\n",
    "plt.gca().yaxis.set_major_formatter(mtick.PercentFormatter(1))\n",
    "plt.gca().xaxis.set_major_formatter(mtick.PercentFormatter(1))\n"
   ]
  },
  {
   "cell_type": "markdown",
   "metadata": {},
   "source": [
    " #### Random Portfolios"
   ]
  },
  {
   "cell_type": "markdown",
   "metadata": {},
   "source": [
    " We can also generate random portfolios by the following:"
   ]
  },
  {
   "cell_type": "code",
   "execution_count": null,
   "metadata": {},
   "outputs": [],
   "source": [
    "port_returns = []\n",
    "port_sd = []\n",
    "port_w = []\n",
    "\n",
    "num_assets = len(funds)\n",
    "num_portfolios = 25000\n",
    "\n",
    "for _ in range(num_portfolios):\n",
    "    # Random generation of weights\n",
    "    weights = np.random.random(num_assets)\n",
    "    # Normalization of weights\n",
    "    weights /= np.sum(weights)\n",
    "    port_w.append(weights)\n",
    "\n",
    "    port_returns.append(np.dot(weights, ((1 + returns.mean()) ** 12) - 1))\n",
    "    port_var = (\n",
    "        12 * returns.cov(ddof=0).mul(weights, axis=0).mul(weights, axis=1).sum().sum()\n",
    "    )\n",
    "    sd_port = np.sqrt(port_var)\n",
    "    port_sd.append(sd_port)\n"
   ]
  },
  {
   "cell_type": "code",
   "execution_count": null,
   "metadata": {},
   "outputs": [],
   "source": [
    "data = {\"Expected Return\": port_returns, \"Standard Deviation\": port_sd}\n",
    "\n",
    "for counter, symbol in enumerate(returns.columns.tolist()):\n",
    "    data[symbol] = [w[counter] for w in port_w]\n"
   ]
  },
  {
   "cell_type": "code",
   "execution_count": null,
   "metadata": {},
   "outputs": [],
   "source": [
    "randomPortfolios = pd.DataFrame(data)\n"
   ]
  },
  {
   "cell_type": "code",
   "execution_count": null,
   "metadata": {},
   "outputs": [],
   "source": [
    "randomPortfolios.head()\n"
   ]
  },
  {
   "cell_type": "code",
   "execution_count": null,
   "metadata": {},
   "outputs": [],
   "source": [
    "mean_var_plot = sns.scatterplot(\n",
    "    data=randomPortfolios,\n",
    "    x=\"Standard Deviation\",\n",
    "    y=\"Expected Return\",\n",
    ").set(title=\"Mean Variance Plot\")\n",
    "plt.gca().yaxis.set_major_formatter(mtick.PercentFormatter(1))\n",
    "plt.gca().xaxis.set_major_formatter(mtick.PercentFormatter(1))\n"
   ]
  },
  {
   "cell_type": "markdown",
   "metadata": {},
   "source": [
    " ##### Minimum Volatility"
   ]
  },
  {
   "cell_type": "code",
   "execution_count": null,
   "metadata": {},
   "outputs": [],
   "source": [
    "# idxmin() gives us the min value per column specified\n",
    "min_vol_port = randomPortfolios.iloc[randomPortfolios[\"Standard Deviation\"].idxmin()]\n",
    "min_vol_port = min_vol_port.to_frame().T\n",
    "min_vol_port.index = [\"Random Minimum Variance Portfolio\"]\n"
   ]
  },
  {
   "cell_type": "code",
   "execution_count": null,
   "metadata": {},
   "outputs": [],
   "source": [
    "min_vol_port\n"
   ]
  },
  {
   "cell_type": "markdown",
   "metadata": {},
   "source": [
    " Interesting, this minimum random portfolio beat our minimum variance portfolio\n",
    " in terms of expected return but not in minimizing volatility. Yet, it doesn't\n",
    " incur in short-selling."
   ]
  },
  {
   "cell_type": "code",
   "execution_count": null,
   "metadata": {},
   "outputs": [],
   "source": [
    "display(annual_mean_var, w_star)\n"
   ]
  },
  {
   "cell_type": "markdown",
   "metadata": {},
   "source": [
    " ##### Minimum Volatility"
   ]
  },
  {
   "cell_type": "code",
   "execution_count": null,
   "metadata": {},
   "outputs": [],
   "source": [
    "annual_RiskFree = riskFree * 12\n",
    "optimal_risky_port = randomPortfolios.iloc[\n",
    "    (\n",
    "        (randomPortfolios[\"Expected Return\"] - annual_RiskFree)\n",
    "        / randomPortfolios[\"Standard Deviation\"]\n",
    "    ).idxmax()\n",
    "]\n",
    "\n",
    "optimal_risky_port = optimal_risky_port.to_frame().T\n",
    "optimal_risky_port.index = [\"Random Maximum Sharpe Ratio Portfolio\"]\n"
   ]
  },
  {
   "cell_type": "code",
   "execution_count": null,
   "metadata": {},
   "outputs": [],
   "source": [
    "optimal_risky_port\n"
   ]
  },
  {
   "cell_type": "code",
   "execution_count": null,
   "metadata": {},
   "outputs": [],
   "source": [
    "annual_mean_var = pd.concat(\n",
    "    [\n",
    "        annual_mean_var.set_index(\"Index\"),\n",
    "        min_vol_port[[\"Expected Return\", \"Standard Deviation\"]],\n",
    "        optimal_risky_port[[\"Expected Return\", \"Standard Deviation\"]],\n",
    "    ]\n",
    ").reset_index()\n"
   ]
  },
  {
   "cell_type": "code",
   "execution_count": null,
   "metadata": {},
   "outputs": [],
   "source": [
    "annual_mean_var.columns = [\"Index\", \"Expected Return\", \"Standard Deviation\"]\n"
   ]
  },
  {
   "cell_type": "code",
   "execution_count": null,
   "metadata": {},
   "outputs": [],
   "source": [
    "with pd.option_context(\"display.float_format\", PERCENT.format):\n",
    "    display(annual_mean_var)\n"
   ]
  },
  {
   "cell_type": "code",
   "execution_count": null,
   "metadata": {},
   "outputs": [],
   "source": [
    "randomPortfolios\n"
   ]
  },
  {
   "cell_type": "code",
   "execution_count": null,
   "metadata": {},
   "outputs": [],
   "source": [
    "mean_var_plot = sns.scatterplot(\n",
    "    data=randomPortfolios, x=\"Standard Deviation\", y=\"Expected Return\", s=10\n",
    ").set(title=\"Mean Variance Plot\")\n",
    "\n",
    "\n",
    "sns.scatterplot(data=frontier_df(0.8), x=\"SD(P)\", y=\"E(Rp)\", s=15).set(\n",
    "    title=\"Mean Variance Plot\"\n",
    ")\n",
    "\n",
    "results_plot = sns.scatterplot(\n",
    "    data=annual_mean_var, x=\"Standard Deviation\", y=\"Expected Return\", hue=\"Index\", s=80\n",
    ").set(title=\"Mean Variance Plot\")\n",
    "\n",
    "plt.gca().yaxis.set_major_formatter(mtick.PercentFormatter(1))\n",
    "plt.gca().xaxis.set_major_formatter(mtick.PercentFormatter(1))\n"
   ]
  },
  {
   "cell_type": "markdown",
   "metadata": {},
   "source": [
    " After looking at this graph we can see that while the randomly generated\n",
    " Maximum Sharpe Ratio Portfolio lies outside the frontier, it is likely (at\n",
    " least I think so) that this is due to the lack of constraint of short-seling\n",
    " in the mean variance frontier matrix formulation"
   ]
  },
  {
   "cell_type": "markdown",
   "metadata": {},
   "source": [
    " ## Part 5: Performance\n",
    "\n",
    " Rank the performance of the five funds and the five-fund portfolio according\n",
    " to the following criteria:\n",
    "\n",
    " - The Sharpe Measure\n",
    " - The Treynor Measure\n",
    " - Geometric Mean Return"
   ]
  },
  {
   "cell_type": "markdown",
   "metadata": {},
   "source": [
    " ### Sharpe Measure\n",
    "\n",
    " > Note: The textbook claims the following:\n",
    "\n",
    "\n",
    " ![image](https://user-images.githubusercontent.com/13838845/153757379-29865a3b-f999-44b5-b9bd-4e6b648a2e2f.png)\n",
    "\n",
    " $$\n",
    " \\text{Sharpe Measure} = \\frac{\\overline{R} - R_f}{\\sigma}\n",
    " $$"
   ]
  },
  {
   "cell_type": "code",
   "execution_count": null,
   "metadata": {},
   "outputs": [],
   "source": [
    "with pd.option_context(\"display.float_format\", PERCENT.format):\n",
    "    display(annual_mean_var.set_index(\"Index\"))\n"
   ]
  },
  {
   "cell_type": "code",
   "execution_count": null,
   "metadata": {},
   "outputs": [],
   "source": [
    "annual_mean_var[\"Sharpe Ratio\"] = (\n",
    "    annual_mean_var[\"Expected Return\"] - annual_RiskFree\n",
    ") / annual_mean_var[\"Standard Deviation\"]\n"
   ]
  },
  {
   "cell_type": "code",
   "execution_count": null,
   "metadata": {},
   "outputs": [],
   "source": [
    "randomPortfolios[\"Sharpe Ratio\"] = (\n",
    "    randomPortfolios[\"Expected Return\"] - riskFree\n",
    ") / randomPortfolios[\"Standard Deviation\"]\n"
   ]
  },
  {
   "cell_type": "code",
   "execution_count": null,
   "metadata": {},
   "outputs": [],
   "source": [
    "randomPortfolios\n"
   ]
  },
  {
   "cell_type": "code",
   "execution_count": null,
   "metadata": {},
   "outputs": [],
   "source": [
    "sns.set(rc={\"figure.figsize\": (16, 9)})\n",
    "\n",
    "sns.scatterplot(data=frontier_df(0.8), x=\"SD(P)\", y=\"E(Rp)\", s=30)\n",
    "\n",
    "results_plot = sns.scatterplot(\n",
    "    data=annual_mean_var,\n",
    "    x=\"Standard Deviation\",\n",
    "    y=\"Expected Return\",\n",
    "    style=\"Index\",\n",
    "    hue=\"Index\",\n",
    "    s=600,\n",
    "    marker=\"*\",\n",
    "    palette=\"bright\",\n",
    ")\n",
    "\n",
    "mean_var_plot = sns.scatterplot(\n",
    "    data=randomPortfolios,\n",
    "    x=\"Standard Deviation\",\n",
    "    y=\"Expected Return\",\n",
    "    palette=\"viridis\",\n",
    "    hue=\"Sharpe Ratio\",\n",
    "    s=15,\n",
    ").set(title=\"Mean Variance Plot: Random Portfolios by Sharpe Ratios\")\n",
    "\n",
    "plt.gca().yaxis.set_major_formatter(mtick.PercentFormatter(1))\n",
    "plt.gca().xaxis.set_major_formatter(mtick.PercentFormatter(1))\n"
   ]
  },
  {
   "cell_type": "markdown",
   "metadata": {},
   "source": [
    " ### Treynor Measure"
   ]
  },
  {
   "cell_type": "markdown",
   "metadata": {},
   "source": [
    " $$\n",
    " \\text{Treynor Measure} = \\frac{\\overline{R} - R_f}{\\beta}\n",
    " $$"
   ]
  },
  {
   "cell_type": "code",
   "execution_count": null,
   "metadata": {},
   "outputs": [],
   "source": [
    "all_betas = list(list(betas.mean()))\n"
   ]
  },
  {
   "cell_type": "code",
   "execution_count": null,
   "metadata": {},
   "outputs": [],
   "source": [
    "all_betas.append(\n",
    "    np.array([0.2] * 5).dot(list(betas.mean()))\n",
    ")  # equally weighted portfolio\n"
   ]
  },
  {
   "cell_type": "code",
   "execution_count": null,
   "metadata": {},
   "outputs": [],
   "source": [
    "all_betas.append(w_star.T.dot(betas.mean())[0])\n"
   ]
  },
  {
   "cell_type": "code",
   "execution_count": null,
   "metadata": {},
   "outputs": [],
   "source": [
    "all_betas.append(min_vol_port[funds].dot(list(betas.mean()))[0])\n",
    "all_betas.append(optimal_risky_port[funds].dot(list(betas.mean()))[0])\n"
   ]
  },
  {
   "cell_type": "code",
   "execution_count": null,
   "metadata": {},
   "outputs": [],
   "source": [
    "annual_mean_var[\"Beta\"] = all_betas\n"
   ]
  },
  {
   "cell_type": "code",
   "execution_count": null,
   "metadata": {},
   "outputs": [],
   "source": [
    "annual_mean_var[\"Treynor Ratio\"] = annual_mean_var[\"Sharpe Ratio\"] = (\n",
    "    annual_mean_var[\"Expected Return\"] - annual_RiskFree\n",
    ") / annual_mean_var[\"Beta\"]\n"
   ]
  },
  {
   "cell_type": "code",
   "execution_count": null,
   "metadata": {},
   "outputs": [],
   "source": [
    "annual_mean_var.set_index(\"Index\").style.format(\n",
    "    {\"Expected Return\": PERCENT, \"Standard Deviation\": PERCENT}\n",
    ")\n"
   ]
  },
  {
   "cell_type": "code",
   "execution_count": null,
   "metadata": {},
   "outputs": [],
   "source": [
    "annual_geo = list(((table_1[\"Geometric Mean\"] + 1) ** 12) - 1)\n"
   ]
  },
  {
   "cell_type": "code",
   "execution_count": null,
   "metadata": {},
   "outputs": [],
   "source": [
    "all_geo = list(((table_1[\"Geometric Mean\"] + 1) ** 12) - 1)\n"
   ]
  },
  {
   "cell_type": "code",
   "execution_count": null,
   "metadata": {},
   "outputs": [],
   "source": [
    "all_geo.append(np.array([0.2] * 5).dot(annual_geo))  # equally weighted portfolio\n"
   ]
  },
  {
   "cell_type": "code",
   "execution_count": null,
   "metadata": {},
   "outputs": [],
   "source": [
    "all_geo.append(w_star.T.dot(annual_geo)[0])\n"
   ]
  },
  {
   "cell_type": "code",
   "execution_count": null,
   "metadata": {},
   "outputs": [],
   "source": [
    "all_geo.append(min_vol_port[funds].dot(annual_geo)[0])\n",
    "all_geo.append(optimal_risky_port[funds].dot(annual_geo)[0])\n"
   ]
  },
  {
   "cell_type": "code",
   "execution_count": null,
   "metadata": {},
   "outputs": [],
   "source": [
    "annual_mean_var[\"Geometric Mean\"] = all_geo\n"
   ]
  },
  {
   "cell_type": "markdown",
   "metadata": {},
   "source": [
    " ### Rankings"
   ]
  },
  {
   "cell_type": "markdown",
   "metadata": {},
   "source": [
    " #### Sharpe Measure"
   ]
  },
  {
   "cell_type": "code",
   "execution_count": null,
   "metadata": {},
   "outputs": [],
   "source": [
    "annual_mean_var.set_index(\"Index\").sort_values(\n",
    "    by=\"Sharpe Ratio\", ascending=False\n",
    ").style.format(\n",
    "    {\n",
    "        \"Expected Return\": PERCENT,\n",
    "        \"Standard Deviation\": PERCENT,\n",
    "        \"Geometric Mean\": PERCENT,\n",
    "    }\n",
    ")\n"
   ]
  },
  {
   "cell_type": "code",
   "execution_count": null,
   "metadata": {},
   "outputs": [],
   "source": [
    "annual_mean_var.set_index(\"Index\")[\"Sharpe Ratio\"].plot(\n",
    "    kind=\"barh\", title=\"Sharpe Ratios\"\n",
    ")\n",
    "# plt.gca().yaxis.set_major_formatter(mtick.PercentFormatter(1))\n"
   ]
  },
  {
   "cell_type": "markdown",
   "metadata": {},
   "source": [
    " #### Treynor Measure"
   ]
  },
  {
   "cell_type": "code",
   "execution_count": null,
   "metadata": {},
   "outputs": [],
   "source": [
    "annual_mean_var.set_index(\"Index\").sort_values(\n",
    "    by=\"Treynor Ratio\", ascending=False\n",
    ").style.format(\n",
    "    {\n",
    "        \"Expected Return\": PERCENT,\n",
    "        \"Standard Deviation\": PERCENT,\n",
    "        \"Geometric Mean\": PERCENT,\n",
    "    }\n",
    ")\n"
   ]
  },
  {
   "cell_type": "code",
   "execution_count": null,
   "metadata": {},
   "outputs": [],
   "source": [
    "annual_mean_var.set_index(\"Index\")[\"Treynor Ratio\"].plot(\n",
    "    kind=\"barh\", title=\"Treynor Ratio\"\n",
    ")\n",
    "# plt.gca().yaxis.set_major_formatter(mtick.PercentFormatter(1))\n"
   ]
  },
  {
   "cell_type": "markdown",
   "metadata": {},
   "source": [
    " #### Geometric Mean"
   ]
  },
  {
   "cell_type": "code",
   "execution_count": null,
   "metadata": {},
   "outputs": [],
   "source": [
    "annual_mean_var.set_index(\"Index\").sort_values(\n",
    "    by=\"Geometric Mean\", ascending=False\n",
    ").style.format(\n",
    "    {\n",
    "        \"Expected Return\": PERCENT,\n",
    "        \"Standard Deviation\": PERCENT,\n",
    "        \"Geometric Mean\": PERCENT,\n",
    "    }\n",
    ")\n"
   ]
  },
  {
   "cell_type": "code",
   "execution_count": null,
   "metadata": {},
   "outputs": [],
   "source": [
    "annual_mean_var.set_index(\"Index\")[\"Geometric Mean\"].plot(\n",
    "    kind=\"barh\", title=\"Geometric Mean\"\n",
    ")\n",
    "# plt.gca().yaxis.set_major_formatter(mtick.PercentFormatter(1))\n"
   ]
  }
 ],
 "metadata": {
  "kernelspec": {
   "display_name": "Python 3 (ipykernel)",
   "language": "python",
   "name": "python3"
  },
  "language_info": {
   "codemirror_mode": {
    "name": "ipython",
    "version": 3
   },
   "file_extension": ".py",
   "mimetype": "text/x-python",
   "name": "python",
   "nbconvert_exporter": "python",
   "pygments_lexer": "ipython3",
   "version": "3.8.12"
  }
 },
 "nbformat": 4,
 "nbformat_minor": 4
}
